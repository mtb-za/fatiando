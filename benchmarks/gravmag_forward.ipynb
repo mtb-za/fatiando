{
 "cells": [
  {
   "cell_type": "code",
   "execution_count": 11,
   "metadata": {
    "collapsed": false
   },
   "outputs": [
    {
     "name": "stdout",
     "output_type": "stream",
     "text": [
      "Intel(R) Core(TM) i5-4200U CPU @ 1.60GHz\n",
      "Model size: 1000\n",
      "Grid size: 2500\n",
      "Times:\n",
      "   gz: 1 loop, best of 3: 3.76 s per loop\n",
      "   gzz: 1 loop, best of 3: 1.71 s per loop\n",
      "   tf: 1 loop, best of 3: 6.58 s per loop\n"
     ]
    }
   ],
   "source": [
    "# Get processor information\n",
    "tmp = !cat /proc/cpuinfo | grep \"model name\"\n",
    "processor = tmp[0].split(':')[1].strip()\n",
    "print(processor)\n",
    "# Make a model for testing\n",
    "from __future__ import division, print_function\n",
    "import numpy as np\n",
    "from fatiando import gridder, utils\n",
    "from fatiando.mesher import PrismMesh\n",
    "model = PrismMesh((-200, 200, -200, 200, 0, 400), (10, 10, 10))\n",
    "model.addprop('density', np.ones(model.size))\n",
    "model.addprop('magnetization', utils.ang2vec(2*np.ones(model.size), 25, -10))\n",
    "inc, dec = -30, 50\n",
    "x, y, z = gridder.regular((-500, 500, -500, 500), (50, 50), z=-1)\n",
    "print('Model size: {}'.format(model.size))\n",
    "print('Grid size: {}'.format(x.size))\n",
    "# Time the forward modeling of gravity, gradients and mag\n",
    "from fatiando.gravmag import prism\n",
    "print('Times:')\n",
    "print('   gz: ', end='')\n",
    "%timeit prism.gz(x, y, z, model)\n",
    "print('   gzz: ', end='')\n",
    "%timeit prism.gzz(x, y, z, model)\n",
    "print('   tf: ', end='')\n",
    "%timeit prism.tf(x, y, z, model, inc, dec)"
   ]
  },
  {
   "cell_type": "code",
   "execution_count": 15,
   "metadata": {
    "collapsed": false
   },
   "outputs": [
    {
     "name": "stdout",
     "output_type": "stream",
     "text": [
      "Intel(R) Core(TM) i5-4200U CPU @ 1.60GHz\n",
      "Model size: 2500\n",
      "Grid size: 10000\n",
      "Times:\n",
      "   gz: 1 loop, best of 3: 2.18 s per loop\n",
      "   gzz: 1 loop, best of 3: 2.19 s per loop\n",
      "   tf: 1 loop, best of 3: 2.8 s per loop\n"
     ]
    }
   ],
   "source": [
    "# Get processor information\n",
    "tmp = !cat /proc/cpuinfo | grep \"model name\"\n",
    "processor = tmp[0].split(':')[1].strip()\n",
    "print(processor)\n",
    "# Make a model for testing\n",
    "from __future__ import division, print_function\n",
    "import numpy as np\n",
    "from fatiando import gridder, utils\n",
    "from fatiando.mesher import PointGrid\n",
    "model = PointGrid((-200, 200, -200, 200), 100, (50, 50))\n",
    "model.addprop('density', np.ones(model.size))\n",
    "model.addprop('magnetization', utils.ang2vec(2*np.ones(model.size), 25, -10))\n",
    "inc, dec = -30, 50\n",
    "x, y, z = gridder.regular((-500, 500, -500, 500), (100, 100), z=-1)\n",
    "print('Model size: {}'.format(model.size))\n",
    "print('Grid size: {}'.format(x.size))\n",
    "# Time the forward modeling of gravity, gradients and mag\n",
    "from fatiando.gravmag import sphere\n",
    "print('Times:')\n",
    "print('   gz: ', end='')\n",
    "%timeit sphere.gz(x, y, z, model)\n",
    "print('   gzz: ', end='')\n",
    "%timeit sphere.gzz(x, y, z, model)\n",
    "print('   tf: ', end='')\n",
    "%timeit sphere.tf(x, y, z, model, inc, dec)"
   ]
  },
  {
   "cell_type": "code",
   "execution_count": 13,
   "metadata": {
    "collapsed": false
   },
   "outputs": [
    {
     "name": "stdout",
     "output_type": "stream",
     "text": [
      "Intel(R) Core(TM) i5-4200U CPU @ 1.60GHz\n",
      "Model size: 1000\n",
      "Grid size: 2500\n",
      "Times:\n",
      "   gz: 1 loop, best of 3: 1.12 s per loop\n",
      "   gzz: 1 loop, best of 3: 478 ms per loop\n",
      "   tf: 1 loop, best of 3: 4.22 s per loop\n"
     ]
    }
   ],
   "source": [
    "# Get processor information\n",
    "tmp = !cat /proc/cpuinfo | grep \"model name\"\n",
    "processor = tmp[0].split(':')[1].strip()\n",
    "print(processor)\n",
    "# Make a model for testing\n",
    "from __future__ import division, print_function\n",
    "import numpy as np\n",
    "from fatiando import gridder, utils\n",
    "from fatiando.mesher import PolygonalPrism\n",
    "vertices = utils.circular_points([-300, 300, -300, 300], 1000)[::-1]\n",
    "props = {'density': 1000, 'magnetization': utils.ang2vec(2, 25, -10)}\n",
    "model = [PolygonalPrism(vertices, 0, 2000, props)]\n",
    "inc, dec = -30, 50\n",
    "x, y, z = gridder.regular((-500, 500, -500, 500), (50, 50), z=-1)\n",
    "print('Model size: {}'.format(len(vertices)))\n",
    "print('Grid size: {}'.format(x.size))\n",
    "# Time the forward modeling of gravity, gradients and mag\n",
    "from fatiando.gravmag import polyprism\n",
    "print('Times:')\n",
    "print('   gz: ', end='')\n",
    "%timeit polyprism.gz(x, y, z, model)\n",
    "print('   gzz: ', end='')\n",
    "%timeit polyprism.gzz(x, y, z, model)\n",
    "print('   tf: ', end='')\n",
    "%timeit polyprism.tf(x, y, z, model, inc, dec)"
   ]
  },
  {
   "cell_type": "code",
   "execution_count": 2,
   "metadata": {
    "collapsed": true
   },
   "outputs": [],
   "source": [
    "import numpy as np"
   ]
  },
  {
   "cell_type": "code",
   "execution_count": 5,
   "metadata": {
    "collapsed": false
   },
   "outputs": [
    {
     "data": {
      "text/plain": [
       "True"
      ]
     },
     "execution_count": 5,
     "metadata": {},
     "output_type": "execute_result"
    }
   ],
   "source": [
    "np.all(1 > 0)"
   ]
  },
  {
   "cell_type": "code",
   "execution_count": 13,
   "metadata": {
    "collapsed": true
   },
   "outputs": [],
   "source": [
    "x = np.ones(100000000)"
   ]
  },
  {
   "cell_type": "code",
   "execution_count": 14,
   "metadata": {
    "collapsed": false
   },
   "outputs": [
    {
     "name": "stdout",
     "output_type": "stream",
     "text": [
      "1 loop, best of 3: 308 ms per loop\n"
     ]
    }
   ],
   "source": [
    "%timeit x*x"
   ]
  },
  {
   "cell_type": "code",
   "execution_count": 15,
   "metadata": {
    "collapsed": false
   },
   "outputs": [
    {
     "name": "stdout",
     "output_type": "stream",
     "text": [
      "1 loop, best of 3: 296 ms per loop\n"
     ]
    }
   ],
   "source": [
    "%timeit x**2"
   ]
  },
  {
   "cell_type": "code",
   "execution_count": null,
   "metadata": {
    "collapsed": true
   },
   "outputs": [],
   "source": [
    "np.allclose()"
   ]
  },
  {
   "cell_type": "code",
   "execution_count": 1,
   "metadata": {
    "collapsed": true
   },
   "outputs": [],
   "source": [
    "%matplotlib inline\n",
    "from __future__ import division, print_function\n",
    "import numpy as np"
   ]
  },
  {
   "cell_type": "code",
   "execution_count": 2,
   "metadata": {
    "collapsed": true
   },
   "outputs": [],
   "source": [
    "%load_ext memory_profiler"
   ]
  },
  {
   "cell_type": "code",
   "execution_count": 2,
   "metadata": {
    "collapsed": false
   },
   "outputs": [
    {
     "name": "stdout",
     "output_type": "stream",
     "text": [
      "Intel(R) Core(TM) i5-4200U CPU @ 1.60GHz\n"
     ]
    }
   ],
   "source": [
    "tmp = !cat /proc/cpuinfo | grep \"model name\"\n",
    "processor = tmp[0].split(':')[1].strip()\n",
    "print(processor)"
   ]
  },
  {
   "cell_type": "code",
   "execution_count": 2,
   "metadata": {
    "collapsed": true
   },
   "outputs": [],
   "source": [
    "from fatiando import gridder, utils\n",
    "from fatiando.mesher import PrismMesh, Prism"
   ]
  },
  {
   "cell_type": "code",
   "execution_count": 6,
   "metadata": {
    "collapsed": false
   },
   "outputs": [],
   "source": [
    "model = PrismMesh((-200, 200, -200, 200, 0, 400), (10, 10, 10))\n",
    "model.addprop('density', np.ones(model.size))\n",
    "model.addprop('magnetization', utils.ang2vec(2*np.ones(model.size), 25, -10))\n",
    "inc, dec = -30, 50\n",
    "x, y, z = gridder.regular((-500, 500, -500, 500), (100, 100), z=-1)"
   ]
  },
  {
   "cell_type": "code",
   "execution_count": 21,
   "metadata": {
    "collapsed": false
   },
   "outputs": [
    {
     "name": "stdout",
     "output_type": "stream",
     "text": [
      "1 loop, best of 3: 14.5 s per loop\n"
     ]
    }
   ],
   "source": [
    "%timeit prism.gz(x, y, z, model)"
   ]
  },
  {
   "cell_type": "code",
   "execution_count": 22,
   "metadata": {
    "collapsed": false
   },
   "outputs": [
    {
     "name": "stdout",
     "output_type": "stream",
     "text": [
      "1 loop, best of 3: 11.9 s per loop\n"
     ]
    }
   ],
   "source": [
    "%timeit _prism_numpy.gz(x, y, z, model)"
   ]
  },
  {
   "cell_type": "code",
   "execution_count": 9,
   "metadata": {
    "collapsed": false
   },
   "outputs": [
    {
     "data": {
      "text/plain": [
       "(array([0]), array([1]), array([2]))"
      ]
     },
     "execution_count": 9,
     "metadata": {},
     "output_type": "execute_result"
    }
   ],
   "source": [
    "x, y, z= np.arange(3).reshape((3, 1))\n",
    "x, y, z"
   ]
  },
  {
   "cell_type": "code",
   "execution_count": null,
   "metadata": {
    "collapsed": true
   },
   "outputs": [],
   "source": [
    "np.testing.assert_allclose()"
   ]
  },
  {
   "cell_type": "code",
   "execution_count": 40,
   "metadata": {
    "collapsed": true
   },
   "outputs": [],
   "source": [
    "x = np.ones(10000)\n",
    "M = 1000"
   ]
  },
  {
   "cell_type": "code",
   "execution_count": 41,
   "metadata": {
    "collapsed": true
   },
   "outputs": [],
   "source": [
    "field = 'gz'"
   ]
  },
  {
   "cell_type": "code",
   "execution_count": 42,
   "metadata": {
    "collapsed": true
   },
   "outputs": [],
   "source": [
    "def kernel(x):\n",
    "    return np.arctan2(x, x)"
   ]
  },
  {
   "cell_type": "code",
   "execution_count": 43,
   "metadata": {
    "collapsed": false
   },
   "outputs": [
    {
     "name": "stdout",
     "output_type": "stream",
     "text": [
      "1 loop, best of 3: 2.34 s per loop\n"
     ]
    }
   ],
   "source": [
    "%%timeit\n",
    "a = np.zeros_like(x)\n",
    "for p in range(M):\n",
    "    for i in range(2):\n",
    "        for j in range(2):\n",
    "            for k in range(2):\n",
    "                a += np.arctan2(x, x)"
   ]
  },
  {
   "cell_type": "code",
   "execution_count": 44,
   "metadata": {
    "collapsed": false
   },
   "outputs": [
    {
     "name": "stdout",
     "output_type": "stream",
     "text": [
      "1 loop, best of 3: 2.35 s per loop\n"
     ]
    }
   ],
   "source": [
    "%%timeit\n",
    "a = np.zeros_like(x)\n",
    "for p in range(M):\n",
    "    for i in range(2):\n",
    "        for j in range(2):\n",
    "            for k in range(2):\n",
    "                a += kernel(x)"
   ]
  },
  {
   "cell_type": "code",
   "execution_count": 45,
   "metadata": {
    "collapsed": false
   },
   "outputs": [
    {
     "name": "stdout",
     "output_type": "stream",
     "text": [
      "1 loop, best of 3: 2.36 s per loop\n"
     ]
    }
   ],
   "source": [
    "%%timeit\n",
    "a = np.zeros_like(x)\n",
    "for p in range(M):\n",
    "    for i in range(2):\n",
    "        for j in range(2):\n",
    "            for k in range(2):\n",
    "                if field == 'gz':\n",
    "                    a += np.arctan2(x, x)\n",
    "                elif field == 'gzz':\n",
    "                    a += np.arctan2(x, x)\n",
    "                elif field == 'gxz':\n",
    "                    a += np.arctan2(x, x)\n",
    "                elif field == 'gyz':\n",
    "                    a += np.arctan2(x, x)\n",
    "                elif field == 'gyy':\n",
    "                    a += np.arctan2(x, x)"
   ]
  },
  {
   "cell_type": "code",
   "execution_count": 46,
   "metadata": {
    "collapsed": false
   },
   "outputs": [
    {
     "name": "stdout",
     "output_type": "stream",
     "text": [
      "1 loop, best of 3: 2.36 s per loop\n"
     ]
    }
   ],
   "source": [
    "%%timeit\n",
    "a = np.zeros_like(x)\n",
    "for p in range(M):\n",
    "    for i in range(2):\n",
    "        for j in range(2):\n",
    "            for k in range(2):\n",
    "                if field == 'gz':\n",
    "                    a += kernel(x)\n",
    "                elif field == 'gzz':\n",
    "                    a += kernel(x)\n",
    "                elif field == 'gxz':\n",
    "                    a += kernel(x)\n",
    "                elif field == 'gyz':\n",
    "                    a += kernel(x)\n",
    "                elif field == 'gyy':\n",
    "                    a += kernel(x)"
   ]
  },
  {
   "cell_type": "code",
   "execution_count": null,
   "metadata": {
    "collapsed": true
   },
   "outputs": [],
   "source": []
  }
 ],
 "metadata": {
  "kernelspec": {
   "display_name": "Python 2",
   "language": "python",
   "name": "python2"
  },
  "language_info": {
   "codemirror_mode": {
    "name": "ipython",
    "version": 2
   },
   "file_extension": ".py",
   "mimetype": "text/x-python",
   "name": "python",
   "nbconvert_exporter": "python",
   "pygments_lexer": "ipython2",
   "version": "2.7.11"
  }
 },
 "nbformat": 4,
 "nbformat_minor": 0
}
